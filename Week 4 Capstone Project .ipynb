{
    "cells": [
        {
            "cell_type": "markdown",
            "metadata": {
                "collapsed": true
            },
            "source": "# Coursera Final Capstone Project"
        },
        {
            "cell_type": "markdown",
            "metadata": {},
            "source": "## Introduction/Business Problem - Description"
        },
        {
            "cell_type": "markdown",
            "metadata": {},
            "source": "Hello everyone! I am from Belarus, so my project will be connected with the Belarusian city - Minsk. Minsk is one of those cities where you just need to walk. Not chasing iconic objects, but wandering, studying, examining, enjoying. This is the most beautiful place on earth! And I want to make this place even better for tourists and city residents. Minsk is the capital of Belarus, many tourists come here, so it would be great to have an application in which you can see different places in Minsk, their workload at the moment, reviews of other visitors."
        },
        {
            "cell_type": "markdown",
            "metadata": {},
            "source": "Every person has come across at least once the fact that he came to his favorite public place and heard: \"Sorry, there are no vacant places.\" Everyone, probably, came across the thought: \"I wish I could create a list of favorite establishments.\" So I got the idea to create an application. Check and chill  (CH&CH) is an app for busy, shy, partying, in general, for anyone who has a taste and a couple of favorite places."
        },
        {
            "cell_type": "markdown",
            "metadata": {},
            "source": "## A plan to solve the problem"
        },
        {
            "cell_type": "markdown",
            "metadata": {},
            "source": "The essence of the application is that each user can log in and create lists of favorite places. It can be restaurants, bars, museums, theaters - whatever your heart desires. You just go to your account, choose a category. If your favorite seat is occupied and there are no free tables, the application will recommend similar seats to you."
        },
        {
            "cell_type": "markdown",
            "metadata": {},
            "source": "The real value of this web application is to save the most valuable thing we have - our time. Instead of going into Google maps, entering the name of the place, looking at the workload, seeing only an approximate answer (high workload / low workload), then looking for the number of the place in Google, gaining patience and strength and dialing, hear a negative answer and search again, where to go in the evening. In CH&CH, you can view the lists of your favorite establishments with a workload indicator and choose the least busy at the moment, but your favorite and go to rest there.\nIf all your favorite places are busy, CH&CH will suggest a list of places to visit that you will probably like and which are the least busy at the moment based on your favorite places."
        },
        {
            "cell_type": "markdown",
            "metadata": {},
            "source": "First, we need to find the locations of all restaurants, bars and their locations. The common feature of these places is the street on which they are located. This can be done using the Foursquare API and keywords like meat, dinner, coffee, etc.\nSecondly, we need to determine the movement of the population in these places in order to make a graph of the congestion of these places. We can determine this by looking at the amount of tips, such as counting, other types of counting, or perhaps a weighted combination of these. We will manipulate location data as well as venue data, which also includes trends.\nFinally, once we have this data, we will use weighted traffic scores and average ratings to determine the potentially best places for visitors. Using recommendation systems, we can recommend similar places to visitors. Content-based systems try to figure out what a user's favorite aspects of an item are, and then make recommendations on items that share those aspects.\nCollaborative filtering techniques find similar groups of users, and provide recommendations based on similar tastes within that group. "
        }
    ],
    "metadata": {
        "kernelspec": {
            "display_name": "Python 3.7",
            "language": "python",
            "name": "python3"
        },
        "language_info": {
            "codemirror_mode": {
                "name": "ipython",
                "version": 3
            },
            "file_extension": ".py",
            "mimetype": "text/x-python",
            "name": "python",
            "nbconvert_exporter": "python",
            "pygments_lexer": "ipython3",
            "version": "3.7.10"
        }
    },
    "nbformat": 4,
    "nbformat_minor": 1
}