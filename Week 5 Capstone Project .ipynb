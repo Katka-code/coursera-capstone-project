{
    "cells": [
        {
            "cell_type": "markdown",
            "metadata": {
                "collapsed": true
            },
            "source": "# Coursera Final Capstone Project"
        },
        {
            "cell_type": "markdown",
            "metadata": {},
            "source": "## Introduction/Business Problem - Description"
        },
        {
            "cell_type": "markdown",
            "metadata": {},
            "source": "Hello everyone! I am from Belarus, so my project will be connected with the Belarusian city - Minsk. Minsk is one of those cities where you just need to walk. Not chasing iconic objects, but wandering, studying, examining, enjoying. This is the most beautiful place on earth! And I want to make this place even better for tourists and city residents. Minsk is the capital of Belarus, many tourists come here, so it is a good place to start your own business. "
        },
        {
            "cell_type": "markdown",
            "metadata": {},
            "source": "The goal of any business is to make a profit and maximize that profit. Any businessman asks himself the question: where is the best place to start your business? To have a high traffic of people, they learned about the new establishment faster. Before starting to create your own business, you should explore lots of different aspects to make the most profitable business in your city. For example, imagine that you would like to create your own little coffee shop in your city. And one of the first question that you will ask yourself is: \"What is the most suitable place for my little coffee shop?\". And this little task of data analize will help you to answer that question."
        },
        {
            "cell_type": "markdown",
            "metadata": {},
            "source": "## A plan to solve the problem"
        },
        {
            "cell_type": "markdown",
            "metadata": {},
            "source": "First, we need to find the locations of all cafes and their locations. The common feature of these places is the street on which they are located. This can be done using the Foursquare API and keywords like coffee. Secondly, we need to determine the movement of the population in these places in order to make a graph of the congestion of these places. We can determine this by looking at the amount of tips, such as counting, other types of counting, or perhaps a weighted combination of these. We will manipulate location data as well as venue data, which also includes trends. Finally, once we have this data, we will use weighted traffic scores and average ratings to determine the potentially best places for visitors. "
        },
        {
            "cell_type": "markdown",
            "metadata": {},
            "source": "## Technical Notes"
        },
        {
            "cell_type": "markdown",
            "metadata": {},
            "source": "1. The script will use Foursquare services to get the input data (categories and venues)\n2. As Foursquare gives us only 100 venues per request, I will make several requests based on the districts of my city. And to get district's coordinates, geopy library will be used.\n3. To show the resulting map with the coffee shop venues, folium library will be used."
        },
        {
            "cell_type": "markdown",
            "metadata": {},
            "source": "## Conclusion"
        },
        {
            "cell_type": "markdown",
            "metadata": {},
            "source": "I created the script that can look through any city in the world and create map with specific venues. It will help you to choose the most profitable place for your future business."
        }
    ],
    "metadata": {
        "kernelspec": {
            "display_name": "Python 3.7",
            "language": "python",
            "name": "python3"
        },
        "language_info": {
            "codemirror_mode": {
                "name": "ipython",
                "version": 3
            },
            "file_extension": ".py",
            "mimetype": "text/x-python",
            "name": "python",
            "nbconvert_exporter": "python",
            "pygments_lexer": "ipython3",
            "version": "3.7.10"
        }
    },
    "nbformat": 4,
    "nbformat_minor": 1
}